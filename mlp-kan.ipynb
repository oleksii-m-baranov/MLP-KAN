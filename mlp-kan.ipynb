{
 "cells": [
  {
   "cell_type": "code",
   "execution_count": null,
   "id": "8b52e683-08d2-4b63-80ca-8f893542eb1e",
   "metadata": {},
   "outputs": [],
   "source": [
    "import keras\n",
    "import matplotlib.pyplot as plt\n",
    "\n",
    "from keras import layers\n",
    "from keras.layers import Dense\n",
    "from keras.layers import Dropout"
   ]
  },
  {
   "cell_type": "code",
   "execution_count": null,
   "id": "c0013804-d77b-4948-abfd-2b73f4e7a2c2",
   "metadata": {},
   "outputs": [],
   "source": [
    "BATCH_SIZE = 64\n",
    "EPOCHS = 20\n",
    "LEARNING_RATE = 1e-3\n",
    "DROPOUT_RATE = 0.1\n",
    "\n",
    "TRAIN_SIZE = 60_000\n",
    "TEST_SIZE = 10_000\n",
    "\n",
    "INPUT_LAYER_SHAPE = 6\n",
    "INPUTS_SHAPE = 784\n",
    "\n",
    "DENCE_LAYER_NUM = 196\n",
    "OUTPUTS_NUM = 10"
   ]
  },
  {
   "cell_type": "code",
   "execution_count": null,
   "id": "16597c35-bac5-40a2-b84f-c8a1d5cd74c4",
   "metadata": {},
   "outputs": [],
   "source": [
    "(x_train, y_train), (x_test, y_test) = keras.datasets.mnist.load_data()\n",
    "x_train = x_train.reshape(TRAIN_SIZE, INPUTS_SHAPE).astype('float32') / 255\n",
    "x_test = x_test.reshape(TEST_SIZE, INPUTS_SHAPE).astype('float32') / 255"
   ]
  },
  {
   "cell_type": "code",
   "execution_count": null,
   "id": "0c506f1c-edde-4d59-a513-35cd46a06a78",
   "metadata": {},
   "outputs": [],
   "source": [
    "def custom_layer(x):\n",
    "    x = keras.ops.stack([\n",
    "        x[:, 0] - 0.,\n",
    "        x[:, 1] - 0.2,\n",
    "        x[:, 2] - 0.4,\n",
    "        x[:, 3] - 0.6,\n",
    "        x[:, 4] - 0.8,\n",
    "        x[:, 5] - 1.\n",
    "    ], axis=1)\n",
    "    x = keras.ops.square(x) / 0.028\n",
    "    x = -x\n",
    "    return keras.ops.exp(x)"
   ]
  },
  {
   "cell_type": "code",
   "execution_count": null,
   "id": "99d45517-c8be-453f-931a-b2a2e9fe7db8",
   "metadata": {},
   "outputs": [],
   "source": [
    "input_layers = keras.Input(shape=(INPUT_LAYER_SHAPE,))\n",
    "outputs = custom_layer(input_layers)\n",
    "modrf = keras.Model(inputs=input_layers, outputs=outputs)\n",
    "\n",
    "inputs = keras.Input(shape=(INPUTS_SHAPE,), name='img')\n",
    "# Normalizing inputs\n",
    "inpb = inputs / keras.ops.amax(inputs, axis=1, keepdims=True)\n",
    "# Making dimension (,784,1)\n",
    "inp1 = keras.ops.expand_dims(inpb, axis=-1)\n",
    "# Dividing on 784 vectors with dimension (,1,1)\n",
    "inp1s = keras.ops.split(inp1, INPUTS_SHAPE, axis=1)\n",
    "# Deleting 1st axis -> result is (,1)\n",
    "inp2s = [keras.ops.squeeze(inp1s[i], axis=1) for i in range(INPUTS_SHAPE)]\n",
    "# For each subvector repeating 6 times along 1st axis, \n",
    "# Result is 784 subvectors (keras-tensors) with dimension (,6)\n",
    "inp3s = [keras.ops.repeat(inp2s[i], INPUT_LAYER_SHAPE, axis=1) for i in range(INPUTS_SHAPE)]\n",
    "# Doing transformation with radial functions\n",
    "# Transforming them into RF\n",
    "# Result is 784 keras-tensors with dimension (,6)\n",
    "inp16s = [modrf(inp3s[i]) for i in range(INPUTS_SHAPE)]\n",
    "# Concatenating them into one tensor with dimension (,784*6)\n",
    "inp161s = keras.ops.concatenate(inp16s, axis=1)\n",
    "# Dividing on 196 vectors with dimensions (,12)\n",
    "inp162s = keras.ops.split(inp161s, DENCE_LAYER_NUM, axis=1)\n",
    "# Passing them to Dence layer and result is 196 tensors with dimension (,1)\n",
    "inp17s=[Dense(1, kernel_initializer='glorot_uniform', use_bias=None)(inp162s[i]) for i in range(DENCE_LAYER_NUM)]\n",
    "# Concatenating them into one keras-tensor with dimension (,196)\n",
    "inp18= keras.ops.concatenate(inp17s, axis=1)\n",
    "x = layers.Dense(112, activation='relu', kernel_initializer='glorot_uniform')(inp18)\n",
    "# Dropping out 10% of neurons\n",
    "x0=Dropout(DROPOUT_RATE)(x)\n",
    "outputs = layers.Dense(OUTPUTS_NUM, activation='softmax')(x0)"
   ]
  },
  {
   "cell_type": "code",
   "execution_count": null,
   "id": "cab0cb51-f9fe-486a-87aa-0fbea0447e6e",
   "metadata": {},
   "outputs": [],
   "source": [
    "model = keras.Model(inputs=inputs, outputs=outputs, name='mnist_model')\n",
    "\n",
    "model.compile(loss='sparse_categorical_crossentropy',\n",
    "              optimizer=keras.optimizers. Adam(learning_rate=LEARNING_RATE),\n",
    "              metrics=['accuracy'])"
   ]
  },
  {
   "cell_type": "code",
   "execution_count": null,
   "id": "c71a5c98-e363-4659-a732-5a5a10019993",
   "metadata": {},
   "outputs": [],
   "source": [
    "history = model.fit(x_train, y_train,\n",
    "                    batch_size=BATCH_SIZE,\n",
    "                    epochs=EPOCHS,\n",
    "                    validation_data=(x_test, y_test))"
   ]
  },
  {
   "cell_type": "code",
   "execution_count": null,
   "id": "7335715c-b045-4047-95f8-9364c0e00f8c",
   "metadata": {},
   "outputs": [],
   "source": [
    "test_scores = model.evaluate(x_test, y_test, verbose=2)\n",
    "print('Test loss:', test_scores[0])\n",
    "print('Test accuracy:', test_scores[1])\n"
   ]
  },
  {
   "cell_type": "code",
   "execution_count": null,
   "id": "5d82190a-6ff9-4f49-912f-af9db3821ab3",
   "metadata": {},
   "outputs": [],
   "source": [
    "plt.style.use('seaborn-v0_8')\n",
    "f,ax = plt.subplots(1,2,figsize=(15,6))\n",
    "\n",
    "ax[0].plot(history.history['val_loss'],label='Testing Loss')\n",
    "ax[0].plot(history.history['loss'],label='Training Loss')\n",
    "ax[0].set_title('Losses',weight='bold',size='x-large')\n",
    "ax[0].set_xlabel('Epoch',size='large')\n",
    "ax[0].set_ylabel('Loss',size='large')\n",
    "ax[0].legend()\n",
    "\n",
    "ax[1].plot(history.history['val_accuracy'],label='Testing Accuracy')\n",
    "ax[1].plot(history.history['accuracy'],label='Training Accuracy')\n",
    "ax[1].set_title('Accuracies',weight='bold',size='x-large')\n",
    "ax[1].set_xlabel('Epoch',size='large')\n",
    "ax[1].set_ylabel('Accuracy',size='large')\n",
    "ax[1].legend()\n",
    "\n",
    "plt.show()\n"
   ]
  },
  {
   "cell_type": "code",
   "execution_count": null,
   "id": "c5f8d2f5-5f7b-42c6-9230-48e8f3cad589",
   "metadata": {},
   "outputs": [],
   "source": [
    "model.summary()"
   ]
  },
  {
   "cell_type": "code",
   "execution_count": null,
   "id": "1300ede7-155f-4aa7-9c14-1b28b3ec7f5e",
   "metadata": {},
   "outputs": [],
   "source": []
  }
 ],
 "metadata": {
  "kernelspec": {
   "display_name": "Python 3 (ipykernel)",
   "language": "python",
   "name": "python3"
  },
  "language_info": {
   "codemirror_mode": {
    "name": "ipython",
    "version": 3
   },
   "file_extension": ".py",
   "mimetype": "text/x-python",
   "name": "python",
   "nbconvert_exporter": "python",
   "pygments_lexer": "ipython3",
   "version": "3.10.12"
  }
 },
 "nbformat": 4,
 "nbformat_minor": 5
}
